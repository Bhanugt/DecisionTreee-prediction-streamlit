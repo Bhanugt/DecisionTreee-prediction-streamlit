{
  "nbformat": 4,
  "nbformat_minor": 0,
  "metadata": {
    "colab": {
      "provenance": [],
      "authorship_tag": "ABX9TyNyxMVQRnjNov/MMJjvCz38",
      "include_colab_link": true
    },
    "kernelspec": {
      "name": "python3",
      "display_name": "Python 3"
    },
    "language_info": {
      "name": "python"
    }
  },
  "cells": [
    {
      "cell_type": "markdown",
      "metadata": {
        "id": "view-in-github",
        "colab_type": "text"
      },
      "source": [
        "<a href=\"https://colab.research.google.com/github/Bhanugt/DecisionTreee-prediction-streamlit/blob/main/decisiontreee_prediction_streamlit.ipynb\" target=\"_parent\"><img src=\"https://colab.research.google.com/assets/colab-badge.svg\" alt=\"Open In Colab\"/></a>"
      ]
    },
    {
      "cell_type": "code",
      "execution_count": 2,
      "metadata": {
        "colab": {
          "base_uri": "https://localhost:8080/"
        },
        "id": "Hq_93VUM84P5",
        "outputId": "7786c615-bf0f-4184-cccc-ae2a2658ca93"
      },
      "outputs": [
        {
          "output_type": "stream",
          "name": "stdout",
          "text": [
            "\n",
            "Cross-Validation Scores: [0.3347216  0.3383906  0.33860571 0.33761404 0.33875446]\n",
            "Mean Accuracy: 0.3376172836949435\n",
            "Standard Deviation: 0.0015002109039102594\n",
            "\n",
            "Decision Tree Performance (After Cross-Validation):\n",
            "Accuracy: 1.0\n",
            "Precision: 1.0\n",
            "Recall: 1.0\n",
            "F1 Score: 1.0\n",
            "Classification Report:\n",
            "               precision    recall  f1-score   support\n",
            "\n",
            "           0       1.00      1.00      1.00     33614\n",
            "           1       1.00      1.00      1.00     33614\n",
            "           2       1.00      1.00      1.00     33614\n",
            "\n",
            "    accuracy                           1.00    100842\n",
            "   macro avg       1.00      1.00      1.00    100842\n",
            "weighted avg       1.00      1.00      1.00    100842\n",
            "\n"
          ]
        }
      ],
      "source": [
        "import pandas as pd\n",
        "import numpy as np\n",
        "from sklearn.model_selection import train_test_split, GridSearchCV, cross_val_score, StratifiedKFold\n",
        "from sklearn.preprocessing import LabelEncoder, StandardScaler\n",
        "from sklearn.tree import DecisionTreeClassifier\n",
        "from sklearn.metrics import accuracy_score, precision_score, recall_score, f1_score, classification_report\n",
        "from imblearn.over_sampling import SMOTE\n",
        "from sklearn.feature_selection import SelectKBest, f_classif, VarianceThreshold\n",
        "\n",
        "# Encode categorical variables\n",
        "categorical_cols = df.select_dtypes(include=['object']).columns.tolist()\n",
        "label_encoders = {}\n",
        "for col in categorical_cols:\n",
        "    le = LabelEncoder()\n",
        "    df[col] = le.fit_transform(df[col].astype(str))\n",
        "    label_encoders[col] = le\n",
        "\n",
        "# Define features (X) and target (y)\n",
        "target_col = \"impact\"\n",
        "X = df.drop(columns=[target_col], errors=\"ignore\")\n",
        "y = df[target_col]\n",
        "\n",
        "# Remove constant/low-variance features\n",
        "constant_filter = VarianceThreshold(threshold=0.01)\n",
        "X = constant_filter.fit_transform(X)\n",
        "\n",
        "# Standardize numerical features\n",
        "scaler = StandardScaler()\n",
        "X = scaler.fit_transform(X)\n",
        "\n",
        "# Feature selection using SelectKBest\n",
        "selector = SelectKBest(f_classif, k=10)  # Selects top 10 features\n",
        "X = selector.fit_transform(X, y)\n",
        "\n",
        "# Handle class imbalance using SMOTE\n",
        "smote = SMOTE(random_state=42)\n",
        "X_resampled, y_resampled = smote.fit_resample(X, y)\n",
        "\n",
        "# Define cross-validation strategy (Stratified K-Fold for balanced class distribution)\n",
        "cv = StratifiedKFold(n_splits=5, shuffle=True, random_state=42)\n",
        "\n",
        "# Initialize Decision Tree model\n",
        "dt = DecisionTreeClassifier(class_weight='balanced', random_state=42)\n",
        "\n",
        "# Perform cross-validation\n",
        "cv_scores = cross_val_score(dt, X_resampled, y_resampled, cv=cv, scoring='accuracy')\n",
        "\n",
        "# Train model on full training set\n",
        "dt.fit(X_resampled, y_resampled)\n",
        "\n",
        "# Evaluate model\n",
        "y_pred = dt.predict(X_resampled)\n",
        "accuracy = accuracy_score(y_resampled, y_pred)\n",
        "\n",
        "# Print Cross-Validation Results\n",
        "print(\"\\nCross-Validation Scores:\", cv_scores)\n",
        "print(\"Mean Accuracy:\", np.mean(cv_scores))\n",
        "print(\"Standard Deviation:\", np.std(cv_scores))\n",
        "\n",
        "# Final Model Performance\n",
        "print(\"\\nDecision Tree Performance (After Cross-Validation):\")\n",
        "print(\"Accuracy:\", accuracy)\n",
        "print(\"Precision:\", precision_score(y_resampled, y_pred, average='weighted'))\n",
        "print(\"Recall:\", recall_score(y_resampled, y_pred, average='weighted'))\n",
        "print(\"F1 Score:\", f1_score(y_resampled, y_pred, average='weighted'))\n",
        "print(\"Classification Report:\\n\", classification_report(y_resampled, y_pred))\n"
      ]
    },
    {
      "cell_type": "code",
      "source": [
        "from google.colab import files\n",
        "files.download(\"decision_tree_model.pkl\")\n"
      ],
      "metadata": {
        "colab": {
          "base_uri": "https://localhost:8080/",
          "height": 17
        },
        "id": "GZcKjXj49qM9",
        "outputId": "21b1f015-45d4-4cad-fd56-f7db95ccc8bd"
      },
      "execution_count": 5,
      "outputs": [
        {
          "output_type": "display_data",
          "data": {
            "text/plain": [
              "<IPython.core.display.Javascript object>"
            ],
            "application/javascript": [
              "\n",
              "    async function download(id, filename, size) {\n",
              "      if (!google.colab.kernel.accessAllowed) {\n",
              "        return;\n",
              "      }\n",
              "      const div = document.createElement('div');\n",
              "      const label = document.createElement('label');\n",
              "      label.textContent = `Downloading \"${filename}\": `;\n",
              "      div.appendChild(label);\n",
              "      const progress = document.createElement('progress');\n",
              "      progress.max = size;\n",
              "      div.appendChild(progress);\n",
              "      document.body.appendChild(div);\n",
              "\n",
              "      const buffers = [];\n",
              "      let downloaded = 0;\n",
              "\n",
              "      const channel = await google.colab.kernel.comms.open(id);\n",
              "      // Send a message to notify the kernel that we're ready.\n",
              "      channel.send({})\n",
              "\n",
              "      for await (const message of channel.messages) {\n",
              "        // Send a message to notify the kernel that we're ready.\n",
              "        channel.send({})\n",
              "        if (message.buffers) {\n",
              "          for (const buffer of message.buffers) {\n",
              "            buffers.push(buffer);\n",
              "            downloaded += buffer.byteLength;\n",
              "            progress.value = downloaded;\n",
              "          }\n",
              "        }\n",
              "      }\n",
              "      const blob = new Blob(buffers, {type: 'application/binary'});\n",
              "      const a = document.createElement('a');\n",
              "      a.href = window.URL.createObjectURL(blob);\n",
              "      a.download = filename;\n",
              "      div.appendChild(a);\n",
              "      a.click();\n",
              "      div.remove();\n",
              "    }\n",
              "  "
            ]
          },
          "metadata": {}
        },
        {
          "output_type": "display_data",
          "data": {
            "text/plain": [
              "<IPython.core.display.Javascript object>"
            ],
            "application/javascript": [
              "download(\"download_27f71df2-4c3b-4100-959f-49d8a9c0fca1\", \"decision_tree_model.pkl\", 4473057)"
            ]
          },
          "metadata": {}
        }
      ]
    },
    {
      "cell_type": "code",
      "source": [
        "!zip -r decision_tree_project.zip decision_tree_model.pkl streamlit_app.py requirements.txt\n",
        "from google.colab import files\n",
        "files.download(\"decision_tree_project.zip\")\n"
      ],
      "metadata": {
        "colab": {
          "base_uri": "https://localhost:8080/",
          "height": 69
        },
        "id": "S96R_SM_-NmS",
        "outputId": "80e66c13-fd3e-44bc-9d09-a255e36159b2"
      },
      "execution_count": 4,
      "outputs": [
        {
          "output_type": "stream",
          "name": "stdout",
          "text": [
            "\tzip warning: name not matched: streamlit_app.py\n",
            "\tzip warning: name not matched: requirements.txt\n",
            "  adding: decision_tree_model.pkl (deflated 86%)\n"
          ]
        },
        {
          "output_type": "display_data",
          "data": {
            "text/plain": [
              "<IPython.core.display.Javascript object>"
            ],
            "application/javascript": [
              "\n",
              "    async function download(id, filename, size) {\n",
              "      if (!google.colab.kernel.accessAllowed) {\n",
              "        return;\n",
              "      }\n",
              "      const div = document.createElement('div');\n",
              "      const label = document.createElement('label');\n",
              "      label.textContent = `Downloading \"${filename}\": `;\n",
              "      div.appendChild(label);\n",
              "      const progress = document.createElement('progress');\n",
              "      progress.max = size;\n",
              "      div.appendChild(progress);\n",
              "      document.body.appendChild(div);\n",
              "\n",
              "      const buffers = [];\n",
              "      let downloaded = 0;\n",
              "\n",
              "      const channel = await google.colab.kernel.comms.open(id);\n",
              "      // Send a message to notify the kernel that we're ready.\n",
              "      channel.send({})\n",
              "\n",
              "      for await (const message of channel.messages) {\n",
              "        // Send a message to notify the kernel that we're ready.\n",
              "        channel.send({})\n",
              "        if (message.buffers) {\n",
              "          for (const buffer of message.buffers) {\n",
              "            buffers.push(buffer);\n",
              "            downloaded += buffer.byteLength;\n",
              "            progress.value = downloaded;\n",
              "          }\n",
              "        }\n",
              "      }\n",
              "      const blob = new Blob(buffers, {type: 'application/binary'});\n",
              "      const a = document.createElement('a');\n",
              "      a.href = window.URL.createObjectURL(blob);\n",
              "      a.download = filename;\n",
              "      div.appendChild(a);\n",
              "      a.click();\n",
              "      div.remove();\n",
              "    }\n",
              "  "
            ]
          },
          "metadata": {}
        },
        {
          "output_type": "display_data",
          "data": {
            "text/plain": [
              "<IPython.core.display.Javascript object>"
            ],
            "application/javascript": [
              "download(\"download_b858a822-cb2c-421b-a680-411d345163c2\", \"decision_tree_project.zip\", 647515)"
            ]
          },
          "metadata": {}
        }
      ]
    }
  ]
}